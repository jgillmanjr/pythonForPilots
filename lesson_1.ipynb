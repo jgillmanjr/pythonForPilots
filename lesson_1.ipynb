{
 "cells": [
  {
   "cell_type": "markdown",
   "metadata": {},
   "source": [
    "pythonForPilots - Lesson 1 - The Basics\n",
    "==============\n",
    "\n",
    "## Something to Keep in Mind up Front\n",
    "I think one thing that's worth saying right up front is that **everything in Python is an object**.\n",
    "\n",
    "This may not mean anything to you right now, but it's just kind of something to keep in the back of your head. But for now, just know it means that Python provides *alot* of flexibility.\n",
    "\n",
    "And flexibility is good.\n",
    "\n",
    "## Comments\n",
    "I'm just going to start with how to insert comments real quick since, well, comments are quite important for readable code.\n",
    "\n",
    "There is only one real way of creating comments:"
   ]
  },
  {
   "cell_type": "code",
   "execution_count": 1,
   "metadata": {
    "ExecuteTime": {
     "end_time": "2023-07-29T04:07:26.498133700Z",
     "start_time": "2023-07-29T04:07:26.003499900Z"
    }
   },
   "outputs": [
    {
     "data": {
      "text/plain": "True"
     },
     "execution_count": 1,
     "metadata": {},
     "output_type": "execute_result"
    }
   ],
   "source": [
    "# Inline comments are preceeded with a #\n",
    "1 == 1  # Inline comments can be included after code as well"
   ]
  },
  {
   "cell_type": "markdown",
   "metadata": {},
   "source": [
    "There is unfortunately no real way to do block comments. You might see something like the following, but this is considered a [docstring](https://www.python.org/dev/peps/pep-0008/#documentation-strings):"
   ]
  },
  {
   "cell_type": "code",
   "execution_count": 2,
   "metadata": {
    "ExecuteTime": {
     "end_time": "2023-07-29T04:07:26.498133700Z",
     "start_time": "2023-07-29T04:07:26.014291400Z"
    }
   },
   "outputs": [],
   "source": [
    "def foo():\n",
    "    \"\"\"\n",
    "    This function does absolutely nothing\n",
    "    Except prove a point\n",
    "    :returns: None\n",
    "    \"\"\"\n",
    "    pass"
   ]
  },
  {
   "cell_type": "markdown",
   "metadata": {},
   "source": [
    "In reality, these triple double-quoted blocks are actually strings (which I'll get to later).\n",
    "\n",
    "## Whitespace\n",
    "Whitespace in Python is used to denote code blocks, such as for function definitions or loops. The previous example showing the docstring example should be a good example.\n",
    "\n",
    "One thing to note is that it doesn't matter if you indent with tabs or spaces, but you need to be consistent\n",
    "\n",
    "## Variables and Operators\n",
    "### Naming and Assignment\n",
    "Varable names are case sensitive and must start with either a letter or an underscore. After that, they can contain any combintation of alphanumeric characters as well as underscores.\n",
    "\n",
    "Assignments are straight forward as well. Let's take a look:"
   ]
  },
  {
   "cell_type": "code",
   "execution_count": 3,
   "metadata": {
    "ExecuteTime": {
     "end_time": "2023-07-29T04:07:26.499135800Z",
     "start_time": "2023-07-29T04:07:26.017809100Z"
    }
   },
   "outputs": [],
   "source": [
    "aircraft1_make = 'Diamond'\n",
    "FleetSize = 20\n",
    "airline_codes = ['9E', 'OO', 'ZW', 'XJ']\n",
    "aircraft_codes = {'DV20': 'Diamond DA20', 'C172': 'Cessna 172'}"
   ]
  },
  {
   "cell_type": "markdown",
   "metadata": {},
   "source": [
    "As you can see, it's nothing too crazy. If you don't understand the types with the last two assignments, don't worry, I'll be covering those in a minute.\n",
    "\n",
    "### Operators\n",
    "Python has a numerous list of operators. For a list, I'm going to send you [here](https://www.programiz.com/python-programming/operators) instead of the actual Python documentation because, well, it's going to be more straight forward (if you're curious, actual documentation is [here](https://docs.python.org/3/reference/expressions.html))."
   ]
  },
  {
   "cell_type": "code",
   "execution_count": 4,
   "metadata": {
    "ExecuteTime": {
     "end_time": "2023-07-29T04:07:26.499135800Z",
     "start_time": "2023-07-29T04:07:26.024979300Z"
    }
   },
   "outputs": [
    {
     "name": "stdout",
     "output_type": "stream",
     "text": [
      "100\n",
      "105\n",
      "Diamond Aircraft\n",
      "True\n",
      "False\n",
      "On the fly\n"
     ]
    }
   ],
   "source": [
    "pax_count = 100\n",
    "new_pax_count = pax_count + 5\n",
    "\n",
    "aircraft1_make = aircraft1_make + ' Aircraft'\n",
    "\n",
    "print(pax_count)\n",
    "print(new_pax_count)\n",
    "print(aircraft1_make)\n",
    "print(True or False)\n",
    "print(not True)\n",
    "print('On ' + 'the ' + 'fly')"
   ]
  },
  {
   "cell_type": "markdown",
   "metadata": {},
   "source": [
    "The example above should be pretty straight forward with the `pax_count` addition. But you'll also notice that strings can be concatenated with `+` as well.\n",
    "\n",
    "But you'll also notice the `or` and `not` operators. `or` is a logical comparison operator that checks for a value of `True` on either side, and `not` basically inverts the boolean following it.\n",
    "\n",
    "### Augmented Assignments\n",
    "Beyond the simple assignment operator (`=`), you can also do augmented assignments. Instead of explaining, I think a simple demo will get the point accross:"
   ]
  },
  {
   "cell_type": "code",
   "execution_count": 5,
   "metadata": {
    "ExecuteTime": {
     "end_time": "2023-07-29T04:07:26.500136100Z",
     "start_time": "2023-07-29T04:07:26.032899Z"
    }
   },
   "outputs": [
    {
     "name": "stdout",
     "output_type": "stream",
     "text": [
      "Current Fleet Size: 20\n",
      "New Fleet Size: 100\n"
     ]
    }
   ],
   "source": [
    "print('Current Fleet Size: ' + str(FleetSize))\n",
    "\n",
    "FleetSize *= 5  # Apparently something good happened\n",
    "\n",
    "print('New Fleet Size: ' + str(FleetSize))"
   ]
  },
  {
   "cell_type": "markdown",
   "metadata": {},
   "source": [
    "Take a look at the list of operators for available augmented assignment operators, but as you can see, they can shorten up situations where you want to use the same variable name after a simple operation.\n",
    "\n",
    "### Object Mutability\n",
    "_Credit to this [article](https://medium.com/@meghamohan/mutable-and-immutable-side-of-python-c2145cf72747) for helping me explain this subject._\n",
    "\n",
    "One thing that is important to know is that some object types are mutable (can be changed) while others are immutable (can't be changed).\n",
    "\n",
    "Some built-in types that are immutable include:\n",
    "\n",
    "* `str` (Strings)\n",
    "* `int` (Integers)\n",
    "* `float` (Floating Point Numbers)\n",
    "\n",
    "Some built-in types that are mutable include:\n",
    "\n",
    "* `list` (Lists)\n",
    "* `dict` (Dictionaries)\n",
    "* `set` (Sets)\n",
    "\n",
    "Additionally, custom object types are generally mutable.\n",
    "\n",
    "Again, don't worry if you don't understand some of the types above - I'll get to those momentarily.\n",
    "\n",
    "Before going further, I'd like to address one thing: Variables reference objects. When `FleetSize` changed from 20 to 100, the actual underlying object that `FleetSize` referenced (20) didn't change - but rather, it referenced a different object (100).\n",
    "\n",
    "I think a demonstration should clear this up, while demonstrating mutability vs immutability:"
   ]
  },
  {
   "cell_type": "code",
   "execution_count": 6,
   "metadata": {
    "ExecuteTime": {
     "end_time": "2023-07-29T04:07:26.501134700Z",
     "start_time": "2023-07-29T04:07:26.037562900Z"
    }
   },
   "outputs": [
    {
     "name": "stdout",
     "output_type": "stream",
     "text": [
      "140736750264200\n",
      "140736750264200\n",
      "\n",
      "\n",
      "140736750261160\n",
      "140736750261160\n"
     ]
    }
   ],
   "source": [
    "# Looking at the object identities for immutable objects\n",
    "print(id(FleetSize))\n",
    "print(id(100))\n",
    "\n",
    "print('\\n')\n",
    "\n",
    "FleetSize = 5\n",
    "print(id(FleetSize))\n",
    "print(id(5))"
   ]
  },
  {
   "cell_type": "markdown",
   "metadata": {},
   "source": [
    "In the most basic sense, `id` function returns the identity of an object. As you can see, when `FleetSize` referenced the object represtning an integer with the value of 100. After `FleetSize` was assigned an integer with the value of 5, the object (as indicated by it's ID) was different.\n",
    "\n",
    "Now let's take a look at what happens with a mutable object (a list):"
   ]
  },
  {
   "cell_type": "code",
   "execution_count": 7,
   "metadata": {
    "ExecuteTime": {
     "end_time": "2023-07-29T04:07:26.501134700Z",
     "start_time": "2023-07-29T04:07:26.043658Z"
    }
   },
   "outputs": [
    {
     "name": "stdout",
     "output_type": "stream",
     "text": [
      "['9E', 'OO', 'ZW', 'XJ']\n",
      "1854866713856\n",
      "['9E', 'OO', 'ZW', 'XJ', 'WN']\n",
      "1854866713856\n"
     ]
    }
   ],
   "source": [
    "print(airline_codes)\n",
    "print(id(airline_codes))\n",
    "\n",
    "airline_codes.append('WN')\n",
    "\n",
    "print(airline_codes)\n",
    "print(id(airline_codes))"
   ]
  },
  {
   "cell_type": "markdown",
   "metadata": {},
   "source": [
    "And for good measure..."
   ]
  },
  {
   "cell_type": "code",
   "execution_count": 8,
   "metadata": {
    "ExecuteTime": {
     "end_time": "2023-07-29T04:07:26.502134200Z",
     "start_time": "2023-07-29T04:07:26.049048100Z"
    }
   },
   "outputs": [
    {
     "name": "stdout",
     "output_type": "stream",
     "text": [
      "1854866713856\n",
      "['9E', 'OO', 'ZW', 'XJ', 'WN', 'YV']\n"
     ]
    }
   ],
   "source": [
    "airline_codes_part_deux = airline_codes\n",
    "print(id(airline_codes_part_deux))\n",
    "\n",
    "airline_codes_part_deux.append('YV')\n",
    "print(airline_codes)"
   ]
  },
  {
   "cell_type": "markdown",
   "metadata": {},
   "source": [
    "And one final opportunity to screw with your head:"
   ]
  },
  {
   "cell_type": "code",
   "execution_count": 9,
   "metadata": {
    "ExecuteTime": {
     "end_time": "2023-07-29T04:07:26.502134200Z",
     "start_time": "2023-07-29T04:07:26.054563Z"
    }
   },
   "outputs": [
    {
     "name": "stdout",
     "output_type": "stream",
     "text": [
      "1854866718976\n",
      "1854866719168\n"
     ]
    }
   ],
   "source": [
    "print(id(['9E', 'OO', 'ZW', 'XJ', 'WN', 'YV']))\n",
    "print(id(['9E', 'OO', 'ZW', 'XJ', 'WN', 'YV']))"
   ]
  },
  {
   "cell_type": "markdown",
   "metadata": {},
   "source": [
    "As you can see, even though a new code was added to `airline_codes`, it maintained the same object ID. Additionally, running a mutation method against `airline_codes_part_deux` and then subsequently printing the value of the original `airline_codes` emphasizes the point about variables being a reference to an object.\n",
    "\n",
    "Then the last example showed that when these mutable objects are created, even with identical values, they are in fact different objects.\n",
    "\n",
    "## Basic Data Types\n",
    "Now that we've gone over operators and variable assignments, let's take a look at some of the built-in types (also known as classes, which I may use interchangably). For a comprehensive list, take a look at the [docs](https://docs.python.org/3/library/stdtypes.html).\n",
    "\n",
    "I'm not going to go horrendously indepth into all the things you can do with these types, but rather go over the common things you can do with them for a basic understanding (this is Lesson 1, after all).\n",
    "\n",
    "### Strings\n",
    "Strings are, as the documentation says, \"immutable sequences of Unicode code points\". If you're going through these lessons, you're using Python 3.7. Don't worry about the bit mentioning \"Unicode code points\". Python 2 strings were ASCII, but that's all I'll say on the matter here. For now, just know strings are essentially a sequence of characters.\n",
    "\n",
    "#### Creation\n",
    "Let's look at the two basic ways to create strings:"
   ]
  },
  {
   "cell_type": "code",
   "execution_count": 10,
   "metadata": {
    "ExecuteTime": {
     "end_time": "2023-07-29T04:07:26.502134200Z",
     "start_time": "2023-07-29T04:07:26.058382300Z"
    }
   },
   "outputs": [],
   "source": [
    "callsign = 'Flagship'\n",
    "flight_number = str(3701)"
   ]
  },
  {
   "cell_type": "markdown",
   "metadata": {},
   "source": [
    "You have obviously already seen the first way of creating a string by using single quotes. You can also use double (`\"String\"`) or triple quotes (`'''String'''` or `\"\"\"String\"\"\"`). Using single quotes allows you to use double quotes within the string without needing any escaping, and vice-versa. Triple quoting allows you to run the string over multiple lines. This method also includes all the whitespace as well, so that's something to keep in mind.\n",
    "\n",
    "You might be wondering why you would use the second way. Well, let's say we wanted to append the flight number to the callsign:"
   ]
  },
  {
   "cell_type": "code",
   "execution_count": 11,
   "metadata": {
    "ExecuteTime": {
     "end_time": "2023-07-29T04:07:26.503138900Z",
     "start_time": "2023-07-29T04:07:26.064040300Z"
    }
   },
   "outputs": [
    {
     "name": "stdout",
     "output_type": "stream",
     "text": [
      "can only concatenate str (not \"int\") to str\n"
     ]
    }
   ],
   "source": [
    "try:\n",
    "    print(callsign + ' ' + 3701)\n",
    "except TypeError as err:\n",
    "    print(err)"
   ]
  },
  {
   "cell_type": "markdown",
   "metadata": {},
   "source": [
    "Whupz. As you can see, Python doesn't allow you to concatenate a string with another object type. This is why getting the string representation of other object types is required first - most commonly by wrapping it in `str()`."
   ]
  },
  {
   "cell_type": "code",
   "execution_count": 12,
   "metadata": {
    "ExecuteTime": {
     "end_time": "2023-07-29T04:07:26.503138900Z",
     "start_time": "2023-07-29T04:07:26.068614900Z"
    }
   },
   "outputs": [
    {
     "name": "stdout",
     "output_type": "stream",
     "text": [
      "Flagship 3701\n"
     ]
    }
   ],
   "source": [
    "print(callsign + ' ' + flight_number)"
   ]
  },
  {
   "cell_type": "markdown",
   "metadata": {},
   "source": [
    "Ahh, there we go.\n",
    "\n",
    "#### String Slices\n",
    "As previously mentioned, strings are essentially a sequence of characters. This means we can do stuff like:"
   ]
  },
  {
   "cell_type": "code",
   "execution_count": 13,
   "metadata": {
    "ExecuteTime": {
     "end_time": "2023-07-29T04:07:26.503138900Z",
     "start_time": "2023-07-29T04:07:26.072423700Z"
    }
   },
   "outputs": [
    {
     "name": "stdout",
     "output_type": "stream",
     "text": [
      "Diamond\n",
      "Aircraft\n",
      "DaodArrf\n",
      "tfarcriA dnomaiD\n"
     ]
    }
   ],
   "source": [
    "print(aircraft1_make[0:7])  # Print the first seven characters\n",
    "print(aircraft1_make[-8:])  # Print the last eight characters\n",
    "print(aircraft1_make[::2])  # Print every other character\n",
    "print(aircraft1_make[::-1]) # Print the string in reverse"
   ]
  },
  {
   "cell_type": "markdown",
   "metadata": {},
   "source": [
    "To start, sequences in Python are \"Zero Indexed\". This basically means that the index for the first element of a sequence, such as a string here, is 0. The following explanation of slices will also apply to other sequence types, such as lists.\n",
    "\n",
    "These slices come in three forms:\n",
    "\n",
    "* `[i]` - This grabs the value at index `i`. Again, remember the first element is indexed at 0.\n",
    "* `[i:j]` - This grabs the values from `i` to `j`. Important to note that the element indexed at `j` is **not** included.\n",
    "* `[i:j:k]` - This grabs the values ranged in `i` to `j`, but in the number of steps as in `k`.\n",
    "\n",
    "Of course, as you can see above, indexes can also be negative (the last value of a sequence being `-1`), and values can be ommitted, as exemplified by the following method of printing an entire string that is Rube Goldberg approved:"
   ]
  },
  {
   "cell_type": "code",
   "execution_count": 14,
   "metadata": {
    "ExecuteTime": {
     "end_time": "2023-07-29T04:07:26.520135800Z",
     "start_time": "2023-07-29T04:07:26.079957600Z"
    }
   },
   "outputs": [
    {
     "name": "stdout",
     "output_type": "stream",
     "text": [
      "Diamond Aircraft\n"
     ]
    }
   ],
   "source": [
    "print(aircraft1_make[::])"
   ]
  },
  {
   "cell_type": "markdown",
   "metadata": {},
   "source": [
    "#### Formatting Strings\n",
    "Let's say we wanted to be a little more... elegant in our printing of the above flight. Instead of having to resort to string concatenation `print(callsign + ' ' + flight_number)`, we can use string formatting. There are a few different ways to do this. One such way is like so:"
   ]
  },
  {
   "cell_type": "code",
   "execution_count": 15,
   "metadata": {
    "ExecuteTime": {
     "end_time": "2023-07-29T04:07:26.521137800Z",
     "start_time": "2023-07-29T04:07:26.084432200Z"
    }
   },
   "outputs": [
    {
     "name": "stdout",
     "output_type": "stream",
     "text": [
      "Flagship 3701\n"
     ]
    }
   ],
   "source": [
    "print('{callsign} {number}'.format(callsign=callsign, number=flight_number))"
   ]
  },
  {
   "cell_type": "markdown",
   "metadata": {},
   "source": [
    "The above uses named placeholders with the values specified by keywords. [This site](https://pyformat.info/) has nice list of the different ways you can do string formatting using the `format` method.\n",
    "\n",
    "However, since python 3.6, _f-strings_ are another way to do string formatting:"
   ]
  },
  {
   "cell_type": "code",
   "execution_count": 16,
   "outputs": [
    {
     "name": "stdout",
     "output_type": "stream",
     "text": [
      "Flagship 3701\n"
     ]
    }
   ],
   "source": [
    "print(f'{callsign} {flight_number}')"
   ],
   "metadata": {
    "collapsed": false,
    "ExecuteTime": {
     "end_time": "2023-07-29T04:07:26.521137800Z",
     "start_time": "2023-07-29T04:07:26.090824300Z"
    }
   }
  },
  {
   "cell_type": "markdown",
   "source": [
    "In this particular instance, you'll see that f-strings also use curley braces to identify things to get expanded, although in this case it's done in place without calling the `format` method.\n",
    "\n",
    "#### Escaping\n",
    "Before finishing up on strings, I should probably discuss escaping real quick. Let's say you wanted to print the following bit of text:\n",
    "```\n",
    "\"Diamond 150PT, you're cleared for the option on Runway 13\"\n",
    "\n",
    "\"Cleared for the option on 13, 150PT\"\n",
    "```\n",
    "\n",
    "In this case, we both have single- and double-quotes. We also have a new line we want to insert. What do? Escape characters."
   ],
   "metadata": {
    "collapsed": false
   }
  },
  {
   "cell_type": "code",
   "execution_count": 17,
   "metadata": {
    "ExecuteTime": {
     "end_time": "2023-07-29T04:07:26.521137800Z",
     "start_time": "2023-07-29T04:07:26.095347Z"
    }
   },
   "outputs": [
    {
     "name": "stdout",
     "output_type": "stream",
     "text": [
      "\"Diamond 150PT, you're cleared for the option on Runway 13\"\n",
      "\n",
      "\"Cleared for the option on 13, 150PT\"\n"
     ]
    }
   ],
   "source": [
    "print('\"Diamond 150PT, you\\'re cleared for the option on Runway 13\"\\n')\n",
    "print(\"\\\"Cleared for the option on 13, 150PT\\\"\")"
   ]
  },
  {
   "cell_type": "markdown",
   "metadata": {},
   "source": [
    "So as you can see, if you need to use a quote of the same type that it's being enclosed by, escape it with a backslash. `\\n` will insert a newline.\n",
    "\n",
    "### Numeric Types\n",
    "Python has a couple different built-in numeric types: `int` (Integers), `float` (Floating point), and `complex` (Complex numbers). The constituents of the `complex` type are both floating point numbers.\n",
    "\n",
    "One thing to note is that calculations on floating point numbers are not precise:"
   ]
  },
  {
   "cell_type": "code",
   "execution_count": 18,
   "metadata": {
    "ExecuteTime": {
     "end_time": "2023-07-29T04:07:26.522135200Z",
     "start_time": "2023-07-29T04:07:26.100691900Z"
    }
   },
   "outputs": [
    {
     "name": "stdout",
     "output_type": "stream",
     "text": [
      "3.3000000000000003\n"
     ]
    }
   ],
   "source": [
    "float_example = 1.1 + 2.2\n",
    "print(float_example)"
   ]
  },
  {
   "cell_type": "markdown",
   "metadata": {},
   "source": [
    "If you're wondering why it's `3.3000000000000003` and not just `3.3`, you're going to have to ask someone smarter than me. If you do need exacting calculations with decimals, you'll need the `decimal` module:"
   ]
  },
  {
   "cell_type": "code",
   "execution_count": 19,
   "metadata": {
    "ExecuteTime": {
     "end_time": "2023-07-29T04:07:26.522135200Z",
     "start_time": "2023-07-29T04:07:26.107535300Z"
    }
   },
   "outputs": [
    {
     "name": "stdout",
     "output_type": "stream",
     "text": [
      "3.3\n"
     ]
    }
   ],
   "source": [
    "from decimal import Decimal # We'll get to this later\n",
    "\n",
    "decimal_example = Decimal('1.1') + Decimal('2.2')  # Notice these are entered as strings\n",
    "print(decimal_example)"
   ]
  },
  {
   "cell_type": "markdown",
   "metadata": {},
   "source": [
    "Again, don't worry about the module import stuff for now. Just know that if you need to do stuff with exacting precision, use the `Decimal` class. Also keep in mind that there are always tradeoffs - the calculations done will be significantly slower, although for our purposes here, not noticeable.\n",
    "\n",
    "### Booleans and None\n",
    "Booleans are just as you would imagine - representations of true and false. The literals are defined as `True` and `False`. Comparison operators evaluate to one of these two (not surprisingly)."
   ]
  },
  {
   "cell_type": "code",
   "execution_count": 20,
   "metadata": {
    "ExecuteTime": {
     "end_time": "2023-07-29T04:07:26.522135200Z",
     "start_time": "2023-07-29T04:07:26.112305900Z"
    }
   },
   "outputs": [
    {
     "name": "stdout",
     "output_type": "stream",
     "text": [
      "True\n",
      "False\n",
      "True\n",
      "False\n"
     ]
    }
   ],
   "source": [
    "print(True or False)\n",
    "print(True and False)\n",
    "print(1 < 2)\n",
    "print(1 == 2)"
   ]
  },
  {
   "cell_type": "markdown",
   "metadata": {},
   "source": [
    "As you can see, straight forward.\n",
    "\n",
    "`None` can be viewed as the Python equivalent of a null. It's commonly used as a placeholder for variables, and subsequent checking if that variable was populated with something else like so:"
   ]
  },
  {
   "cell_type": "code",
   "execution_count": 21,
   "metadata": {
    "ExecuteTime": {
     "end_time": "2023-07-29T04:07:26.523135Z",
     "start_time": "2023-07-29T04:07:26.117621Z"
    }
   },
   "outputs": [
    {
     "name": "stdout",
     "output_type": "stream",
     "text": [
      "The landing was successful: True\n"
     ]
    }
   ],
   "source": [
    "successful_landing = None\n",
    "crash = False\n",
    "if successful_landing is not None:\n",
    "    print('The landing was successful: {success}'.format(success=successful_landing))\n",
    "\n",
    "if not crash:\n",
    "    successful_landing = True\n",
    "if successful_landing is not None:\n",
    "    print('The landing was successful: {success}'.format(success=successful_landing))"
   ]
  },
  {
   "cell_type": "markdown",
   "metadata": {},
   "source": [
    "Contrived example? Absolutely. Did it get the point across? I hope so.\n",
    "\n",
    "### Lists\n",
    "Just like strings, lists contain a sequence of objects - except the objects can be of any type. You've seen them in the earlier examples.\n",
    "\n",
    "#### Instantiation\n",
    "Lists are instantiated like so:"
   ]
  },
  {
   "cell_type": "code",
   "execution_count": 22,
   "metadata": {
    "ExecuteTime": {
     "end_time": "2023-07-29T04:07:26.523135Z",
     "start_time": "2023-07-29T04:07:26.124184900Z"
    }
   },
   "outputs": [],
   "source": [
    "airline_codes = ['9E', 'OO', 'ZW', 'XJ', 'WN', 'YV'] # Note the square brackets"
   ]
  },
  {
   "cell_type": "markdown",
   "metadata": {},
   "source": [
    "#### Working with Lists\n",
    "And just like strings (or any other sequence type) you can use slices:"
   ]
  },
  {
   "cell_type": "code",
   "execution_count": 23,
   "metadata": {
    "ExecuteTime": {
     "end_time": "2023-07-29T04:07:26.523135Z",
     "start_time": "2023-07-29T04:07:26.127299600Z"
    }
   },
   "outputs": [
    {
     "name": "stdout",
     "output_type": "stream",
     "text": [
      "['9E', 'ZW', 'WN']\n"
     ]
    }
   ],
   "source": [
    "print(airline_codes[::2])  # Starting with the first value, get ever other one"
   ]
  },
  {
   "cell_type": "markdown",
   "metadata": {},
   "source": [
    "You can easily add to lists and remove from lists. Lists can also contain duplicate values."
   ]
  },
  {
   "cell_type": "code",
   "execution_count": 24,
   "metadata": {
    "ExecuteTime": {
     "end_time": "2023-07-29T04:07:26.523135Z",
     "start_time": "2023-07-29T04:07:26.133182600Z"
    }
   },
   "outputs": [
    {
     "name": "stdout",
     "output_type": "stream",
     "text": [
      "['9E', 'OO', 'ZW', 'XJ', 'WN', 'YV', 'WN']\n",
      "WN\n",
      "['9E', 'OO', 'ZW', 'XJ', 'WN', 'YV']\n",
      "['9E', 'OO', 'ZW', 'XJ', 'WN', 'YV', [1, 2, 3]]\n"
     ]
    }
   ],
   "source": [
    "airline_codes.append('WN')  # Appending a value to a list. It goes to the end.\n",
    "print(airline_codes)\n",
    "\n",
    "popped_value = airline_codes.pop()  # Let's remove the last value from the list and store it\n",
    "print(popped_value)\n",
    "print(airline_codes)\n",
    "\n",
    "airline_codes.append([1,2,3])  # List within a lists...\n",
    "print(airline_codes)"
   ]
  },
  {
   "cell_type": "markdown",
   "metadata": {},
   "source": [
    "#### Iterating through Lists\n",
    "I suppose I could have covered this with strings, but it wouldn't have been nearly as interesting.\n",
    "\n",
    "Let's say we wanted to print out the type of objects within a list:"
   ]
  },
  {
   "cell_type": "code",
   "execution_count": 25,
   "metadata": {
    "ExecuteTime": {
     "end_time": "2023-07-29T04:07:26.523135Z",
     "start_time": "2023-07-29T04:07:26.138147100Z"
    }
   },
   "outputs": [
    {
     "name": "stdout",
     "output_type": "stream",
     "text": [
      "<class 'str'>\n",
      "<class 'str'>\n",
      "<class 'str'>\n",
      "<class 'str'>\n",
      "<class 'str'>\n",
      "<class 'str'>\n",
      "<class 'list'>\n"
     ]
    }
   ],
   "source": [
    "for i in airline_codes:\n",
    "    print(type(i))\n",
    "\n",
    "del airline_codes[-1]  # Remove the last value (the list) without returning the value"
   ]
  },
  {
   "cell_type": "markdown",
   "metadata": {},
   "source": [
    "I'll get into iterators more later, but just know that sequence type objects support iteration.\n",
    "\n",
    "#### Checking for values\n",
    "One last thing I'll demonstrate is checking for the existence of a value in a list using the `in` operator:"
   ]
  },
  {
   "cell_type": "code",
   "execution_count": 26,
   "metadata": {
    "ExecuteTime": {
     "end_time": "2023-07-29T04:07:26.524132200Z",
     "start_time": "2023-07-29T04:07:26.141966600Z"
    }
   },
   "outputs": [
    {
     "name": "stdout",
     "output_type": "stream",
     "text": [
      "Added DL to the list\n"
     ]
    }
   ],
   "source": [
    "if 'DL' not in airline_codes:\n",
    "    airline_codes.append('DL')\n",
    "    print('Added DL to the list')"
   ]
  },
  {
   "cell_type": "markdown",
   "metadata": {},
   "source": [
    "### Dictionaries\n",
    "Dictionaries can be seen as storing key/value pairs. While lists are always indexed by integer, dictionaries can use any immutable type as a key (including tuples, as long as they themselves contain only immutable types - tuples will be covered later).\n",
    "\n",
    "Dictionaries can be created empty, or created with initial values."
   ]
  },
  {
   "cell_type": "code",
   "execution_count": 27,
   "metadata": {
    "ExecuteTime": {
     "end_time": "2023-07-29T04:07:26.524132200Z",
     "start_time": "2023-07-29T04:07:26.150176300Z"
    }
   },
   "outputs": [
    {
     "name": "stdout",
     "output_type": "stream",
     "text": [
      "{'9E': 'Endeavor'}\n",
      "{'9E': 'Endeavor', 'OO': 'SkyWest'}\n"
     ]
    }
   ],
   "source": [
    "code_pairings = {}  # Create an empty dict\n",
    "code_pairings['9E'] = 'Endeavor' # Assign a value for a given key\n",
    "\n",
    "print(code_pairings)\n",
    "\n",
    "code_pairings = {\n",
    "    '9E': 'Endeavor', # Notice that when doing it this way, you use a colon\n",
    "    'OO': 'SkyWest', # Also note you can have trailing commas\n",
    "}\n",
    "\n",
    "print(code_pairings)"
   ]
  },
  {
   "cell_type": "markdown",
   "metadata": {},
   "source": [
    "Dictionaries, like lists, can be iterated over. We can iterate over the keys, the keys and values, or just the values:"
   ]
  },
  {
   "cell_type": "code",
   "execution_count": 28,
   "metadata": {
    "ExecuteTime": {
     "end_time": "2023-07-29T04:07:26.524132200Z",
     "start_time": "2023-07-29T04:07:26.155559100Z"
    }
   },
   "outputs": [
    {
     "name": "stdout",
     "output_type": "stream",
     "text": [
      "9E\n",
      "OO\n",
      "\n",
      "\n",
      "9E contains Endeavor\n",
      "OO contains SkyWest\n",
      "\n",
      "\n",
      "Endeavor\n",
      "SkyWest\n"
     ]
    }
   ],
   "source": [
    "for k in code_pairings.keys():  # Just the keys\n",
    "    print(k)\n",
    "\n",
    "print('\\n')\n",
    "\n",
    "for k, v in code_pairings.items(): # Keys and values\n",
    "    print('{key} contains {value}'.format(key=k, value=v))\n",
    "\n",
    "print('\\n')\n",
    "    \n",
    "for v in code_pairings.values(): # Just the values - although I've never actually used this before\n",
    "    print(v)"
   ]
  },
  {
   "cell_type": "markdown",
   "metadata": {},
   "source": [
    "There are other things you can do with dictionaries, but again, this is Lesson 1. I'm sure I'll show more advanced examples later.\n",
    "\n",
    "### Tuples\n",
    "The last thing we'll be covering in this lesson are tuples.\n",
    "\n",
    "Just like lists, tuples are sequenced. However, unlike lists, tuples are immutable."
   ]
  },
  {
   "cell_type": "code",
   "execution_count": 29,
   "metadata": {
    "ExecuteTime": {
     "end_time": "2023-07-29T04:07:26.524132200Z",
     "start_time": "2023-07-29T04:07:26.160656Z"
    }
   },
   "outputs": [
    {
     "name": "stdout",
     "output_type": "stream",
     "text": [
      "('9E', 'OO', 'XJ')\n",
      "9E\n",
      "'tuple' object doesn't support item deletion\n"
     ]
    }
   ],
   "source": [
    "code_tuple = ('9E', 'OO', 'XJ')\n",
    "print(code_tuple)\n",
    "print(code_tuple[0])\n",
    "\n",
    "try:\n",
    "    del code_tuple[0]\n",
    "except TypeError as err:\n",
    "    print(err)"
   ]
  },
  {
   "cell_type": "markdown",
   "metadata": {},
   "source": [
    "You can also unpack tuples (well, lists as well, but I'm covering it now).\n",
    "\n",
    "In fact, you've already seen an example of this when iterating through the key/value pairs of dictionaries."
   ]
  },
  {
   "cell_type": "code",
   "execution_count": 30,
   "metadata": {
    "ExecuteTime": {
     "end_time": "2023-07-29T04:07:26.525134700Z",
     "start_time": "2023-07-29T04:07:26.164658100Z"
    }
   },
   "outputs": [
    {
     "name": "stdout",
     "output_type": "stream",
     "text": [
      "1\n",
      "2\n",
      "too many values to unpack (expected 2)\n"
     ]
    }
   ],
   "source": [
    "x, y = (1, 2)\n",
    "print(x)\n",
    "print(y)\n",
    "\n",
    "try:\n",
    "    x, y = ('A', 'B', 'C')  # The value count has to match, though...\n",
    "except ValueError as err:\n",
    "    print(err)"
   ]
  },
  {
   "cell_type": "markdown",
   "metadata": {},
   "source": [
    "And of course, you can iterate through tuples:"
   ]
  },
  {
   "cell_type": "code",
   "execution_count": 31,
   "metadata": {
    "ExecuteTime": {
     "end_time": "2023-07-29T04:07:26.525134700Z",
     "start_time": "2023-07-29T04:07:26.170745400Z"
    }
   },
   "outputs": [
    {
     "name": "stdout",
     "output_type": "stream",
     "text": [
      "1\n",
      "2\n",
      "3\n",
      "4\n",
      "5\n"
     ]
    }
   ],
   "source": [
    "for x in (1, 2, 3, 4, 5):\n",
    "    print(x)"
   ]
  },
  {
   "cell_type": "markdown",
   "metadata": {},
   "source": [
    "One final thing about tuples: As I mentioned, they're immutable. However, the can contain objects which *are* mutable."
   ]
  },
  {
   "cell_type": "code",
   "execution_count": 32,
   "metadata": {
    "ExecuteTime": {
     "end_time": "2023-07-29T04:07:26.525134700Z",
     "start_time": "2023-07-29T04:07:26.175741900Z"
    }
   },
   "outputs": [
    {
     "name": "stdout",
     "output_type": "stream",
     "text": [
      "(['9E', 'OO', 'ZW', 'XJ', 'WN', 'YV', 'DL'], {'9E': 'Endeavor', 'OO': 'SkyWest'})\n",
      "(['9E', 'OO', 'ZW', 'XJ', 'WN', 'YV'], {'9E': 'Endeavor', 'OO': 'SkyWest', 'DL': 'Delta Air Lines'})\n"
     ]
    }
   ],
   "source": [
    "ex_tuple = (airline_codes, code_pairings)\n",
    "print(ex_tuple)\n",
    "\n",
    "del airline_codes[-1]\n",
    "code_pairings['DL'] = 'Delta Air Lines'\n",
    "\n",
    "print(ex_tuple)"
   ]
  },
  {
   "cell_type": "markdown",
   "metadata": {},
   "source": [
    "## Lesson Conclusion\n",
    "I'm hoping by now you should have a good foundational understanding of working with Python. There are some things demo'd that I didn't cover yet, but that's ok. Play around. Have fun.\n",
    "\n",
    "Also, don't be afraid to use this as a launching point start your own research and learning. I got my start with the language basically by coming up with my own task I wanted to accomplish and jumped from there (admittedly, I did have some prior experience with PHP).\n",
    "\n",
    "I can also try to answer questions (and take feedback) left as an issue in the github repo.\n",
    "\n",
    "Until next time.\n",
    "\n",
    "-- Jason"
   ]
  }
 ],
 "metadata": {
  "kernelspec": {
   "display_name": "Python 3",
   "language": "python",
   "name": "python3"
  },
  "language_info": {
   "codemirror_mode": {
    "name": "ipython",
    "version": 3
   },
   "file_extension": ".py",
   "mimetype": "text/x-python",
   "name": "python",
   "nbconvert_exporter": "python",
   "pygments_lexer": "ipython3",
   "version": "3.7.0"
  }
 },
 "nbformat": 4,
 "nbformat_minor": 2
}
