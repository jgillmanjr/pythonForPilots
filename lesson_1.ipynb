{
 "cells": [
  {
   "cell_type": "markdown",
   "metadata": {},
   "source": [
    "pythonForPilots - Lesson 1 - The Basics\n",
    "==============\n",
    "\n",
    "## Something to Keep in Mind up Front\n",
    "I think one thing that's worth saying right up front is that **everything in Python is an object**.\n",
    "\n",
    "This may not mean anything to you right now, but it's just kind of something to keep in the back of your head. But for now, just know it means that Python provides *alot* of flexibility.\n",
    "\n",
    "And flexibility is good.\n",
    "\n",
    "## Variables\n",
    "Varable names are case sensitive and must start with either a letter or an underscore. After that, they can contain any combintation of alphanumeric characters as well as underscores. Let's take a look:"
   ]
  },
  {
   "cell_type": "code",
   "execution_count": 1,
   "metadata": {},
   "outputs": [],
   "source": [
    "aircraft1_make = 'Diamond'\n",
    "FleetSize = 20\n",
    "airline_codes = ['9E', 'OO', 'ZW', 'XJ']\n",
    "aircraft_codes = {'DV20': 'Diamond DA20', 'C172': 'Cessna 172'}"
   ]
  },
  {
   "cell_type": "markdown",
   "metadata": {},
   "source": [
    "As you can see, it's nothing too crazy. If you don't understand the types with the last two assignments, don't worry, I'll be covering those in a minute. There are some additional assignment operators, such as `+=` and `-=`, but I'll get to those later."
   ]
  }
 ],
 "metadata": {
  "kernelspec": {
   "display_name": "Python 3",
   "language": "python",
   "name": "python3"
  },
  "language_info": {
   "codemirror_mode": {
    "name": "ipython",
    "version": 3
   },
   "file_extension": ".py",
   "mimetype": "text/x-python",
   "name": "python",
   "nbconvert_exporter": "python",
   "pygments_lexer": "ipython3",
   "version": "3.7.0"
  }
 },
 "nbformat": 4,
 "nbformat_minor": 2
}
