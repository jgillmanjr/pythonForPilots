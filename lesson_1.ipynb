{
 "cells": [
  {
   "cell_type": "markdown",
   "metadata": {},
   "source": [
    "pythonForPilots - Lesson 1 - The Basics\n",
    "==============\n",
    "\n",
    "## Something to Keep in Mind up Front\n",
    "I think one thing that's worth saying right up front is that **everything in Python is an object**.\n",
    "\n",
    "This may not mean anything to you right now, but it's just kind of something to keep in the back of your head. But for now, just know it means that Python provides *alot* of flexibility.\n",
    "\n",
    "And flexibility is good.\n",
    "\n",
    "## Comments\n",
    "I'm just going to start with how to insert comments real quick since, well, comments are quite important for readable code.\n",
    "\n",
    "There is only one real way of creating comments:"
   ]
  },
  {
   "cell_type": "code",
   "execution_count": 1,
   "metadata": {},
   "outputs": [
    {
     "data": {
      "text/plain": [
       "True"
      ]
     },
     "execution_count": 1,
     "metadata": {},
     "output_type": "execute_result"
    }
   ],
   "source": [
    "# Inline comments are preceeded with a #\n",
    "1 == 1  # Inline comments can be included after code as well"
   ]
  },
  {
   "cell_type": "markdown",
   "metadata": {},
   "source": [
    "There is unfortunately no real way to do block comments. You might see something like the following, but this is considered a [docstring](https://www.python.org/dev/peps/pep-0008/#documentation-strings):"
   ]
  },
  {
   "cell_type": "code",
   "execution_count": 2,
   "metadata": {},
   "outputs": [],
   "source": [
    "def foo():\n",
    "    \"\"\"\n",
    "    This function does absolutely nothing\n",
    "    Except prove a point\n",
    "    :returns: None\n",
    "    \"\"\"\n",
    "    pass"
   ]
  },
  {
   "cell_type": "markdown",
   "metadata": {},
   "source": [
    "In reality, these triple double-quoted blocks are actually strings (which I'll get to later).\n",
    "\n",
    "## Variables and Operators\n",
    "### Naming and Assignment\n",
    "Varable names are case sensitive and must start with either a letter or an underscore. After that, they can contain any combintation of alphanumeric characters as well as underscores.\n",
    "\n",
    "Assignments are straight forward as well. Let's take a look:"
   ]
  },
  {
   "cell_type": "code",
   "execution_count": 3,
   "metadata": {},
   "outputs": [],
   "source": [
    "aircraft1_make = 'Diamond'\n",
    "FleetSize = 20\n",
    "airline_codes = ['9E', 'OO', 'ZW', 'XJ']\n",
    "aircraft_codes = {'DV20': 'Diamond DA20', 'C172': 'Cessna 172'}"
   ]
  },
  {
   "cell_type": "markdown",
   "metadata": {},
   "source": [
    "As you can see, it's nothing too crazy. If you don't understand the types with the last two assignments, don't worry, I'll be covering those in a minute.\n",
    "\n",
    "### Operators\n",
    "Python has a numerous list of operators. For a list, I'm going to send you [here](https://www.programiz.com/python-programming/operators) instead of the actual Python documentation because, well, it's going to be more straight forward (if you're curious, actual documentation is [here](https://docs.python.org/3/reference/expressions.html))."
   ]
  },
  {
   "cell_type": "code",
   "execution_count": 4,
   "metadata": {},
   "outputs": [
    {
     "name": "stdout",
     "output_type": "stream",
     "text": [
      "100\n",
      "105\n",
      "Diamond Aircraft\n",
      "True\n",
      "False\n",
      "On the fly\n"
     ]
    }
   ],
   "source": [
    "pax_count = 100\n",
    "new_pax_count = pax_count + 5\n",
    "\n",
    "aircraft1_make = aircraft1_make + ' Aircraft'\n",
    "\n",
    "print(pax_count)\n",
    "print(new_pax_count)\n",
    "print(aircraft1_make)\n",
    "print(True or False)\n",
    "print(not True)\n",
    "print('On ' + 'the ' + 'fly')"
   ]
  },
  {
   "cell_type": "markdown",
   "metadata": {},
   "source": [
    "The example above should be pretty straight forward with the `pax_count` addition. But you'll also notice that strings can be concatenated with `+` as well.\n",
    "\n",
    "But you'll also notice the `or` and `not` operators. `or` is a logical comparison operator that checks for a value of `True` on either side, and `not` basically inverts the boolean following it.\n",
    "\n",
    "### Augmented Assignments\n",
    "Beyond the simple assignment operator (`=`), you can also do augmented assignments. Instead of explaining, I think a simple demo will get the point accross:"
   ]
  },
  {
   "cell_type": "code",
   "execution_count": 5,
   "metadata": {},
   "outputs": [
    {
     "name": "stdout",
     "output_type": "stream",
     "text": [
      "Current Fleet Size: 20\n",
      "New Fleet Size: 100\n"
     ]
    }
   ],
   "source": [
    "print('Current Fleet Size: ' + str(FleetSize))\n",
    "\n",
    "FleetSize *= 5  # Apparently something good happened\n",
    "\n",
    "print('New Fleet Size: ' + str(FleetSize))"
   ]
  },
  {
   "cell_type": "markdown",
   "metadata": {},
   "source": [
    "Take a look at the list of operators for available augmented assignment operators, but as you can see, they can shorten up situations where you want to use the same variable name after a simple operation.\n",
    "\n",
    "### Object Mutability\n",
    "_Credit to this [article](https://medium.com/@meghamohan/mutable-and-immutable-side-of-python-c2145cf72747) for helping me explain this subject._\n",
    "\n",
    "One thing that is important to know is that some object types are mutable (can be changed) while others are immutable (can't be changed).\n",
    "\n",
    "Some built-in types that are immutable include:\n",
    "\n",
    "* str (Strings)\n",
    "* int (Integers)\n",
    "* floats (Floating Point Numbers)\n",
    "\n",
    "Some built-in types that are mutable include:\n",
    "\n",
    "* list (Lists)\n",
    "* dict (Dictionaries)\n",
    "* set (Sets)\n",
    "\n",
    "Additionally, custom object types are generally mutable.\n",
    "\n",
    "Again, don't worry if you don't understand some of the types above - I'll get to those momentarily.\n",
    "\n",
    "Before going further, I'd like to address one thing: Variables reference objects. When `FleetSize` changed from 20 to 100, the actual underlying object that `FleetSize` referenced (20) didn't change - but rather, it referenced a different object (100).\n",
    "\n",
    "I think a demonstration should clear this up, while demonstrating mutability vs immutability:"
   ]
  },
  {
   "cell_type": "code",
   "execution_count": 6,
   "metadata": {},
   "outputs": [
    {
     "name": "stdout",
     "output_type": "stream",
     "text": [
      "140485442293024\n",
      "140485442293024\n",
      "\n",
      "\n",
      "140485442289984\n",
      "140485442289984\n"
     ]
    }
   ],
   "source": [
    "# Looking at the object identities for immutable objects\n",
    "print(id(FleetSize))\n",
    "print(id(100))\n",
    "\n",
    "print('\\n')\n",
    "\n",
    "FleetSize = 5\n",
    "print(id(FleetSize))\n",
    "print(id(5))"
   ]
  },
  {
   "cell_type": "markdown",
   "metadata": {},
   "source": [
    "In the most basic sense, `id` function returns the identity of an object. As you can see, when `FleetSize` referenced the object represtning an integer with the value of 100. After `FleetSize` was assigned an integer with the value of 5, the object (as indicated by it's ID) was different.\n",
    "\n",
    "Now let's take a look at what happens with a mutable object (a list):"
   ]
  },
  {
   "cell_type": "code",
   "execution_count": 7,
   "metadata": {},
   "outputs": [
    {
     "name": "stdout",
     "output_type": "stream",
     "text": [
      "['9E', 'OO', 'ZW', 'XJ']\n",
      "140485271117384\n",
      "['9E', 'OO', 'ZW', 'XJ', 'WN']\n",
      "140485271117384\n"
     ]
    }
   ],
   "source": [
    "print(airline_codes)\n",
    "print(id(airline_codes))\n",
    "\n",
    "airline_codes.append('WN')\n",
    "\n",
    "print(airline_codes)\n",
    "print(id(airline_codes))"
   ]
  },
  {
   "cell_type": "markdown",
   "metadata": {},
   "source": [
    "And for good measure..."
   ]
  },
  {
   "cell_type": "code",
   "execution_count": 8,
   "metadata": {},
   "outputs": [
    {
     "name": "stdout",
     "output_type": "stream",
     "text": [
      "140485271117384\n",
      "['9E', 'OO', 'ZW', 'XJ', 'WN', 'YV']\n"
     ]
    }
   ],
   "source": [
    "airline_codes_part_deux = airline_codes\n",
    "print(id(airline_codes_part_deux))\n",
    "\n",
    "airline_codes_part_deux.append('YV')\n",
    "print(airline_codes)"
   ]
  },
  {
   "cell_type": "markdown",
   "metadata": {},
   "source": [
    "And one final opportunity to screw with your head:"
   ]
  },
  {
   "cell_type": "code",
   "execution_count": 9,
   "metadata": {},
   "outputs": [
    {
     "name": "stdout",
     "output_type": "stream",
     "text": [
      "140485271141192\n",
      "140485271140488\n"
     ]
    }
   ],
   "source": [
    "print(id(['9E', 'OO', 'ZW', 'XJ', 'WN', 'YV']))\n",
    "print(id(['9E', 'OO', 'ZW', 'XJ', 'WN', 'YV']))"
   ]
  },
  {
   "cell_type": "markdown",
   "metadata": {},
   "source": [
    "As you can see, even though a new code was added to `airline_codes`, it maintained the same object ID. Additionally, running a mutation method against `airline_codes_part_deux` and then subsequently printing the value of the original `airline_codes` emphasizes the point about variables being a reference to an object.\n",
    "\n",
    "Then the last example showed that when these mutable objects are created, even with identical values, they are in fact different objects.\n",
    "\n",
    "## Basic Data Types\n",
    "Now that we've gone over operators and variable assignments, let's take a look at some of the built-in types. For a comprehensive list, take a look at the [docs](https://docs.python.org/3/library/stdtypes.html).\n",
    "\n",
    "### Strings\n",
    "Strings are, as the documentation says, \"immutable sequences of Unicode code points\". If you're going through these lessons, you're using Python 3.7. Don't worry about the bit mentioning \"Unicode code points\". Python 2 strings were ASCII, but that's all I'll say on the matter here. For now, just know strings are essentially a sequence of characters.\n",
    "\n",
    "#### Creation\n",
    "Let's look at the two basic ways to create strings:"
   ]
  },
  {
   "cell_type": "code",
   "execution_count": 10,
   "metadata": {},
   "outputs": [],
   "source": [
    "callsign = 'Flagship'\n",
    "flight_number = str(3701)"
   ]
  },
  {
   "cell_type": "markdown",
   "metadata": {},
   "source": [
    "You have obviously already seen the first way of creating a string by using single quotes. You can also use double (`\"String\"`) or triple quotes (`'''String'''` or `\"\"\"String\"\"\"`). Using single quotes allows you to use double quotes within the string without needing any escaping, and vice-versa. Triple quoting allows you to run the string over multiple lines. This method also includes all the whitespace as well, so that's something to keep in mind.\n",
    "\n",
    "You might be wondering why you would use the second way. Well, let's say we wanted to append the flight number to the callsign:"
   ]
  },
  {
   "cell_type": "code",
   "execution_count": 11,
   "metadata": {},
   "outputs": [
    {
     "ename": "TypeError",
     "evalue": "can only concatenate str (not \"int\") to str",
     "output_type": "error",
     "traceback": [
      "\u001b[0;31m---------------------------------------------------------------------------\u001b[0m",
      "\u001b[0;31mTypeError\u001b[0m                                 Traceback (most recent call last)",
      "\u001b[0;32m<ipython-input-11-1940b22268ac>\u001b[0m in \u001b[0;36m<module>\u001b[0;34m()\u001b[0m\n\u001b[0;32m----> 1\u001b[0;31m \u001b[0mprint\u001b[0m\u001b[0;34m(\u001b[0m\u001b[0mcallsign\u001b[0m \u001b[0;34m+\u001b[0m \u001b[0;34m' '\u001b[0m \u001b[0;34m+\u001b[0m \u001b[0;36m3701\u001b[0m\u001b[0;34m)\u001b[0m\u001b[0;34m\u001b[0m\u001b[0m\n\u001b[0m",
      "\u001b[0;31mTypeError\u001b[0m: can only concatenate str (not \"int\") to str"
     ]
    }
   ],
   "source": [
    "print(callsign + ' ' + 3701)"
   ]
  },
  {
   "cell_type": "markdown",
   "metadata": {},
   "source": [
    "Whupz. As you can see, Python doesn't allow you to concatenate a string with another object type. This is why getting the string representation of other object types is required first - most commonly by wrapping it in `str()`."
   ]
  },
  {
   "cell_type": "code",
   "execution_count": 12,
   "metadata": {},
   "outputs": [
    {
     "name": "stdout",
     "output_type": "stream",
     "text": [
      "Flagship 3701\n"
     ]
    }
   ],
   "source": [
    "print(callsign + ' ' + flight_number)"
   ]
  },
  {
   "cell_type": "markdown",
   "metadata": {},
   "source": [
    "Ahh, there we go.\n",
    "\n",
    "#### String Slices\n",
    "As previously mentioned, strings are essentially a sequence of characters. This we can do stuff like:"
   ]
  },
  {
   "cell_type": "code",
   "execution_count": 13,
   "metadata": {},
   "outputs": [
    {
     "name": "stdout",
     "output_type": "stream",
     "text": [
      "Diamond\n",
      "Aircraft\n",
      "DaodArrf\n",
      "tfarcriA dnomaiD\n"
     ]
    }
   ],
   "source": [
    "print(aircraft1_make[0:7])  # Print the first seven characters\n",
    "print(aircraft1_make[-8:])  # Print the last eight characters\n",
    "print(aircraft1_make[::2])  # Print every other character\n",
    "print(aircraft1_make[::-1]) # Print the string in reverse"
   ]
  },
  {
   "cell_type": "markdown",
   "metadata": {},
   "source": [
    "To start, sequences in Python are \"Zero Indexed\". This basically means that the index for the first element of a sequence, such as a string here, is 0. The following explanation of slices will also apply to other sequence types, such as lists.\n",
    "\n",
    "These slices come in three forms:\n",
    "\n",
    "* `[i]` - This grabs the value at index `i`. Again, remember the first element is indexed at 0.\n",
    "* `[i:j]` - This grabs the values from `i` to `j`. Important to note that the element indexed at `j` is **not** included.\n",
    "* `[i:j:k]` - This grabs the values ranged in `i` to `j`, but in the number of steps as in `k`.\n",
    "\n",
    "Of course, as you can see above, indexes can also be negative (the last value of a sequence being `-1`), and values can be ommitted, as exemplified by the following method of printing an entire string that is Rube Goldberg approved:"
   ]
  },
  {
   "cell_type": "code",
   "execution_count": 14,
   "metadata": {},
   "outputs": [
    {
     "name": "stdout",
     "output_type": "stream",
     "text": [
      "Diamond Aircraft\n"
     ]
    }
   ],
   "source": [
    "print(aircraft1_make[::])"
   ]
  }
 ],
 "metadata": {
  "kernelspec": {
   "display_name": "Python 3",
   "language": "python",
   "name": "python3"
  },
  "language_info": {
   "codemirror_mode": {
    "name": "ipython",
    "version": 3
   },
   "file_extension": ".py",
   "mimetype": "text/x-python",
   "name": "python",
   "nbconvert_exporter": "python",
   "pygments_lexer": "ipython3",
   "version": "3.7.0"
  }
 },
 "nbformat": 4,
 "nbformat_minor": 2
}
